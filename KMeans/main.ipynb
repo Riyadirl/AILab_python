{
 "cells": [
  {
   "cell_type": "code",
   "execution_count": 2,
   "metadata": {},
   "outputs": [],
   "source": [
    "import numpy as np\n",
    "import pandas as pd\n",
    "import matplotlib.pyplot as plt\n",
    "%matplotlib inline"
   ]
  },
  {
   "cell_type": "code",
   "execution_count": 1,
   "metadata": {},
   "outputs": [
    {
     "ename": "NameError",
     "evalue": "name 'np' is not defined",
     "output_type": "error",
     "traceback": [
      "\u001b[1;31m---------------------------------------------------------------------------\u001b[0m",
      "\u001b[1;31mNameError\u001b[0m                                 Traceback (most recent call last)",
      "Cell \u001b[1;32mIn[1], line 2\u001b[0m\n\u001b[0;32m      1\u001b[0m \u001b[39m# Load data from jain_feats.txt into a 2D numpy array X\u001b[39;00m\n\u001b[1;32m----> 2\u001b[0m X \u001b[39m=\u001b[39m np\u001b[39m.\u001b[39mloadtxt(\u001b[39m'\u001b[39m\u001b[39mjain_feats.txt\u001b[39m\u001b[39m'\u001b[39m)\n",
      "\u001b[1;31mNameError\u001b[0m: name 'np' is not defined"
     ]
    }
   ],
   "source": [
    "# Load data from jain_feats.txt into a 2D numpy array X\n",
    "X = np.loadtxt('jain_feats.txt')"
   ]
  },
  {
   "cell_type": "code",
   "execution_count": null,
   "metadata": {},
   "outputs": [],
   "source": [
    "# Load initial centroids from jain_centers.txt into a 2D numpy array centroid_old\n",
    "centroid_old = np.loadtxt('jain_centers.txt')"
   ]
  },
  {
   "cell_type": "code",
   "execution_count": null,
   "metadata": {},
   "outputs": [],
   "source": [
    "# Initialize centroid_new array with zeros\n",
    "centroid_new = np.zeros_like(centroid_old)"
   ]
  },
  {
   "cell_type": "code",
   "execution_count": null,
   "metadata": {},
   "outputs": [],
   "source": [
    "# Iterate for 1000 epochs\n",
    "for e in range(1000):\n",
    "\n",
    "    # Assign points to centroids/clusters\n",
    "    label = np.zeros(X.shape[0], dtype=int)\n",
    "    for i, x in enumerate(X):\n",
    "        dist = np.linalg.norm(x - centroid_old, axis=1)\n",
    "        label[i] = np.argmin(dist)\n",
    "\n",
    "    # Update centroids\n",
    "    for j in range(centroid_new.shape[0]):\n",
    "        centroid_new[j] = np.mean(X[label == j], axis=0)\n",
    "\n",
    "    # Check stop condition\n",
    "    diff = np.max(np.abs(centroid_new - centroid_old))\n",
    "    if diff < 1E-7:\n",
    "        break\n",
    "    else:\n",
    "        centroid_old = centroid_new.copy()"
   ]
  },
  {
   "cell_type": "code",
   "execution_count": null,
   "metadata": {},
   "outputs": [],
   "source": [
    "# Final cluster centroids\n",
    "print(centroid_old)"
   ]
  }
 ],
 "metadata": {
  "kernelspec": {
   "display_name": "Python 3.10.11 64-bit (microsoft store)",
   "language": "python",
   "name": "python3"
  },
  "language_info": {
   "codemirror_mode": {
    "name": "ipython",
    "version": 3
   },
   "file_extension": ".py",
   "mimetype": "text/x-python",
   "name": "python",
   "nbconvert_exporter": "python",
   "pygments_lexer": "ipython3",
   "version": "3.10.11"
  },
  "orig_nbformat": 4,
  "vscode": {
   "interpreter": {
    "hash": "5c1f741a4f83aa020b4b2a4d7353a073a4e5e4a855a3258a20da40294ddbf005"
   }
  }
 },
 "nbformat": 4,
 "nbformat_minor": 2
}
